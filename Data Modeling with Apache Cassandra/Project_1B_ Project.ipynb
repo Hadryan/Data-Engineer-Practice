{
 "cells": [
  {
   "cell_type": "markdown",
   "metadata": {},
   "source": [
    "### Part I. ETL Pipeline for Pre-Processing the Files"
   ]
  },
  {
   "cell_type": "markdown",
   "metadata": {},
   "source": [
    "**Import Python packages**"
   ]
  },
  {
   "cell_type": "code",
   "execution_count": 2,
   "metadata": {},
   "outputs": [],
   "source": [
    "# Import Python packages \n",
    "import pandas as pd\n",
    "import cassandra\n",
    "import re\n",
    "import os\n",
    "import glob\n",
    "import numpy as np\n",
    "import json\n",
    "import csv"
   ]
  },
  {
   "cell_type": "markdown",
   "metadata": {},
   "source": [
    "**Creating list of filepaths to process original event csv data files**"
   ]
  },
  {
   "cell_type": "code",
   "execution_count": 43,
   "metadata": {},
   "outputs": [
    {
     "name": "stdout",
     "output_type": "stream",
     "text": [
      "/home/workspace\n"
     ]
    }
   ],
   "source": [
    "# checking your current working directory\n",
    "print(os.getcwd())\n",
    "\n",
    "# Get current folder and subfolder event data\n",
    "filepath = os.getcwd() + '/event_data'\n",
    "\n",
    "# Create a for loop to create a list of files and collect each filepath\n",
    "for root, dirs, files in os.walk(filepath):\n",
    "    \n",
    "# join the file path and roots with the subdirectories using glob\n",
    "    file_path_list = glob.glob(os.path.join(root,'*'))\n",
    "#     print(file_path_list)"
   ]
  },
  {
   "cell_type": "markdown",
   "metadata": {},
   "source": [
    "**Processing the files to create the data file csv that will be used for Apache Casssandra tables**"
   ]
  },
  {
   "cell_type": "code",
   "execution_count": 10,
   "metadata": {},
   "outputs": [],
   "source": [
    "# initiate an empty list that will be stored the data from each file\n",
    "full_data_rows_list = []\n",
    "\n",
    "for f in file_path_list:\n",
    "    # read csv file using pandas library\n",
    "    df = pd.read_csv(f)\n",
    "    # extract each data row and append it to the list\n",
    "    for index, row in df.iterrows():\n",
    "        full_data_rows_list.append(row.tolist())"
   ]
  },
  {
   "cell_type": "code",
   "execution_count": 15,
   "metadata": {},
   "outputs": [
    {
     "data": {
      "text/plain": [
       "6820"
      ]
     },
     "execution_count": 15,
     "metadata": {},
     "output_type": "execute_result"
    }
   ],
   "source": [
    "# create a small event csv data file called event_datafile_new.csv \n",
    "# and use it to insert data into the Cassandra tables\n",
    "df = pd.DataFrame(full_data_rows_list)[[0, 2, 3, 4, 5, 6, 7, 8, 12, 13, 16]]\n",
    "df.columns = ['artist','firstName','gender','itemInSession','lastName','length',\\\n",
    "                'level','location','sessionId','song','userId']\n",
    "# drop missing artists and save\n",
    "df[df['artist'].notnull()].to_csv('event_datafile_new.csv', index=False)\n",
    "# check the number of rows of the event_datafile_new.csv file\n",
    "pd.read_csv('event_datafile_new.csv').shape[0]"
   ]
  },
  {
   "cell_type": "markdown",
   "metadata": {},
   "source": [
    "### Part II. Complete the Apache Cassandra coding portion of your project. \n",
    "\n",
    "Now you are ready to work with the CSV file titled <font color=red>event_datafile_new.csv</font>, located within the Workspace directory.  The event_datafile_new.csv contains the following columns: \n",
    "- artist \n",
    "- firstName of user\n",
    "- gender of user\n",
    "- item number in session\n",
    "- last name of user\n",
    "- length of the song\n",
    "- level (paid or free song)\n",
    "- location of the user\n",
    "- sessionId\n",
    "- song title\n",
    "- userId\n",
    "\n",
    "The image below is a screenshot of what the denormalized data should appear like in the <font color=red>**event_datafile_new.csv**</font> after the code above is run:<br>\n",
    "\n",
    "<img src=\"images/image_event_datafile_new.jpg\">"
   ]
  },
  {
   "cell_type": "markdown",
   "metadata": {},
   "source": [
    "### Begin writing your Apache Cassandra code in the cells below"
   ]
  },
  {
   "cell_type": "markdown",
   "metadata": {},
   "source": [
    "**Creating a Cluster**"
   ]
  },
  {
   "cell_type": "code",
   "execution_count": 16,
   "metadata": {},
   "outputs": [],
   "source": [
    "# make a connection to a Cassandra instance your local machine \n",
    "\n",
    "from cassandra.cluster import Cluster\n",
    "cluster = Cluster(['127.0.0.1'])\n",
    "\n",
    "# To establish connection and begin executing queries, need a session\n",
    "session = cluster.connect()"
   ]
  },
  {
   "cell_type": "markdown",
   "metadata": {},
   "source": [
    "**Create Keyspace**"
   ]
  },
  {
   "cell_type": "code",
   "execution_count": 17,
   "metadata": {},
   "outputs": [],
   "source": [
    "# Create a Keyspace \n",
    "try:\n",
    "    session.execute(\"\"\"CREATE KEYSPACE IF NOT EXISTS sparkifydb\n",
    "                    WITH REPLICATION =\n",
    "                    {'class': 'SimpleStrategy',\n",
    "                     'replication_factor': 1\n",
    "                    }\"\"\")\n",
    "except Exception as e:\n",
    "    print(e)"
   ]
  },
  {
   "cell_type": "markdown",
   "metadata": {},
   "source": [
    "**Set Keyspace**"
   ]
  },
  {
   "cell_type": "code",
   "execution_count": 18,
   "metadata": {},
   "outputs": [],
   "source": [
    "# Set KEYSPACE to the keyspace specified above\n",
    "try:\n",
    "    session.set_keyspace('sparkifydb')\n",
    "except Exception as e:\n",
    "    print(e)"
   ]
  },
  {
   "cell_type": "markdown",
   "metadata": {},
   "source": [
    "**Query 1** </br>\n",
    "Query the artist, song title and song's length in the music app that was heard during sessionId = 338 and itemInSession = 4\n",
    "- partition key: sessionId\n",
    "- composite keys: sessionId, itemInSession"
   ]
  },
  {
   "cell_type": "code",
   "execution_count": 20,
   "metadata": {},
   "outputs": [],
   "source": [
    "# create Table\n",
    "query = \"CREATE TABLE IF NOT EXISTS session_library\"\n",
    "query = query + \"(sessionId int, itemInSession int, \\\n",
    "                  artist varchar, song varchar, \\\n",
    "                  length float,  \\\n",
    "                  PRIMARY KEY (sessionId, itemInSession))\"\n",
    "try:\n",
    "    session.execute(query)\n",
    "except Exception as e:\n",
    "    print (e)"
   ]
  },
  {
   "cell_type": "code",
   "execution_count": 24,
   "metadata": {
    "scrolled": false
   },
   "outputs": [],
   "source": [
    "# insert data\n",
    "file = 'event_datafile_new.csv'\n",
    "\n",
    "df = pd.read_csv(file)\n",
    "\n",
    "# insert data from csv file\n",
    "\n",
    "for index, row in df.iterrows():\n",
    "    query = \"INSERT INTO session_library (sessionId, itemInSession, artist, song, length)\"\n",
    "    query = query + \"VALUES (%s, %s, %s, %s, %s)\"\n",
    "    \n",
    "    session.execute(query, (row.sessionId, row.itemInSession, row.artist, row.song, row.length))"
   ]
  },
  {
   "cell_type": "code",
   "execution_count": 25,
   "metadata": {
    "scrolled": true
   },
   "outputs": [
    {
     "name": "stdout",
     "output_type": "stream",
     "text": [
      "Faithless, Music Matters (Mark Knight Dub), 495.30731201171875\n"
     ]
    }
   ],
   "source": [
    "# Add in the SELECT statement to verify the data was entered into the table\n",
    "query = \"SELECT artist, song, length from session_library\n",
    "            WHERE sessionId = 338 and itemInSession = 4;\"\n",
    "\n",
    "try:\n",
    "    rows = session.execute(query)\n",
    "except Exception as e:\n",
    "    print(e)\n",
    "    \n",
    "for row in rows:\n",
    "    print('{0}, {1}, {2}'.format(row.artist, row.song, row.length))"
   ]
  },
  {
   "cell_type": "code",
   "execution_count": 26,
   "metadata": {},
   "outputs": [
    {
     "data": {
      "text/plain": [
       "<cassandra.cluster.ResultSet at 0x7f246c691c18>"
      ]
     },
     "execution_count": 26,
     "metadata": {},
     "output_type": "execute_result"
    }
   ],
   "source": [
    "# drop the table\n",
    "session.execute('DROP TABLE session_library')"
   ]
  },
  {
   "cell_type": "markdown",
   "metadata": {},
   "source": [
    "**Query 2** </br>\n",
    "Query the name of the artist, song (sorted by itemInSession) and user (first and last name) for userId = 10 and sessionId = 182\n",
    "- partition key: userId\n",
    "- composite keys: userId, sessionId, itemInSession"
   ]
  },
  {
   "cell_type": "code",
   "execution_count": 31,
   "metadata": {},
   "outputs": [],
   "source": [
    "# create table\n",
    "query = \"\"\"CREATE TABLE IF NOT EXISTS song_playlist\"\"\"\n",
    "query = query + \"(userId int, sessionId int, itemInSession int, \\\n",
    "                  firstName varchar, lastName varchar, \\\n",
    "                  artist varchar, song varchar, \\\n",
    "                  PRIMARY KEY (userId, sessionId, itemInSession))\"\n",
    "try:\n",
    "    session.execute(query)\n",
    "except Exception as e:\n",
    "    print(e)"
   ]
  },
  {
   "cell_type": "code",
   "execution_count": 33,
   "metadata": {},
   "outputs": [],
   "source": [
    "# insert data\n",
    "for index, row in df.iterrows():\n",
    "    query = \"INSERT INTO song_playlist (userId, sessionId, itemInSession, \\\n",
    "            firstName, lastName, artist, song)\"\n",
    "    query = query + \"VALUES (%s, %s, %s, %s, %s, %s, %s)\"\n",
    "    \n",
    "    session.execute(query, (int(row.userId), row.sessionId, row.itemInSession, row.firstName, row.lastName, row.artist, row.song))"
   ]
  },
  {
   "cell_type": "code",
   "execution_count": 34,
   "metadata": {},
   "outputs": [
    {
     "name": "stdout",
     "output_type": "stream",
     "text": [
      "Down To The Bone, Keep On Keepin' On, Sylvie\n",
      "Three Drives, Greece 2000, Sylvie\n",
      "Sebastien Tellier, Kilometer, Sylvie\n",
      "Lonnie Gordon, Catch You Baby (Steve Pitron & Max Sanna Radio Edit), Sylvie\n"
     ]
    }
   ],
   "source": [
    "# verification\n",
    "query = \"SELECT artist, song, firstName, lastName \\\n",
    "        from song_playlist WHERE userId = 10 and sessionId = 182; \"\n",
    "try:\n",
    "    rows = session.execute(query)\n",
    "except Exception as e:\n",
    "    print(e)\n",
    "    \n",
    "for row in rows:\n",
    "    print('{0}, {1}, {2}'.format(row.artist, row.song, row.firstname, row.lastname))"
   ]
  },
  {
   "cell_type": "markdown",
   "metadata": {},
   "source": [
    "**Query 3** </br>\n",
    "Query user name (first and last) in my music app history who listened to the song 'All Hands Against His Own'\n",
    "- partition key: song\n",
    "- composite keys: song, userId"
   ]
  },
  {
   "cell_type": "code",
   "execution_count": 35,
   "metadata": {},
   "outputs": [],
   "source": [
    "# create table\n",
    "query = \"\"\"CREATE TABLE IF NOT EXISTS user_song\"\"\"\n",
    "query = query + \"(song varchar, userId int, \\\n",
    "                  firstName varchar, lastName varchar, \\\n",
    "                  PRIMARY KEY (song, userId))\"\n",
    "try:\n",
    "    session.execute(query)\n",
    "except Exception as e:\n",
    "    print(e)"
   ]
  },
  {
   "cell_type": "code",
   "execution_count": 39,
   "metadata": {},
   "outputs": [],
   "source": [
    "# insert data\n",
    "for index, row in df.iterrows():\n",
    "    query = \"INSERT INTO user_song (song, userId, \\\n",
    "                  firstName, lastName)\"\n",
    "    query = query + \"VALUES (%s, %s, %s, %s)\"\n",
    "    \n",
    "    session.execute(query, (row.song, int(row.userId), row.firstName, row.lastName))"
   ]
  },
  {
   "cell_type": "code",
   "execution_count": 40,
   "metadata": {},
   "outputs": [
    {
     "name": "stdout",
     "output_type": "stream",
     "text": [
      "Jacqueline, Lynch\n",
      "Tegan, Levine\n",
      "Sara, Johnson\n"
     ]
    }
   ],
   "source": [
    "# verification\n",
    "query = \"SELECT firstName, lastName \\\n",
    "        from user_song WHERE song = 'All Hands Against His Own'; \"\n",
    "try:\n",
    "    rows = session.execute(query)\n",
    "except Exception as e:\n",
    "    print(e)\n",
    "    \n",
    "for row in rows:\n",
    "    print('{0}, {1}'.format(row.firstname, row.lastname))"
   ]
  },
  {
   "cell_type": "code",
   "execution_count": 41,
   "metadata": {},
   "outputs": [
    {
     "data": {
      "text/plain": [
       "<cassandra.cluster.ResultSet at 0x7f246c6abba8>"
      ]
     },
     "execution_count": 41,
     "metadata": {},
     "output_type": "execute_result"
    }
   ],
   "source": [
    "#Drop the table before closing out the sessions\n",
    "session.execute('DROP TABLE user_song')"
   ]
  },
  {
   "cell_type": "code",
   "execution_count": 42,
   "metadata": {},
   "outputs": [],
   "source": [
    "# close the seesion and cluster connection\n",
    "session.shutdown()\n",
    "cluster.shutdown()"
   ]
  }
 ],
 "metadata": {
  "kernelspec": {
   "display_name": "Python 3",
   "language": "python",
   "name": "python3"
  },
  "language_info": {
   "codemirror_mode": {
    "name": "ipython",
    "version": 3
   },
   "file_extension": ".py",
   "mimetype": "text/x-python",
   "name": "python",
   "nbconvert_exporter": "python",
   "pygments_lexer": "ipython3",
   "version": "3.6.3"
  }
 },
 "nbformat": 4,
 "nbformat_minor": 2
}
